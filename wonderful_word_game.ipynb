{
 "cells": [
  {
   "cell_type": "markdown",
   "id": "3cb7d9d6",
   "metadata": {},
   "source": [
    "# 유사한 단어 찾기 게임"
   ]
  },
  {
   "cell_type": "markdown",
   "id": "aad03d63",
   "metadata": {
    "vscode": {
     "languageId": "plaintext"
    }
   },
   "source": [
    "1. 사전 학습된 모델 또는 적절한 데이터셋을 찾는다\n",
    "2. 워드 임베딩 모델을 학습시킨다\n",
    "3. 단어 유사도가 0.8 이상인 A, B 를 랜덤 추출한다\n",
    "4. A, B와 대응되는 C를 추출한다.\n",
    "5. D를 입력받는다\n",
    "\n",
    "=>\n",
    "A:B = C:D 관계에 대응하는 D를 찾는 게임을 만든다.\n",
    "ex) A:산, B:바다, C:나무, D:물"
   ]
  },
  {
   "cell_type": "markdown",
   "id": "f292653e",
   "metadata": {
    "vscode": {
     "languageId": "plaintext"
    }
   },
   "source": [
    "**<출력 예시>**\n",
    "\n",
    "관계 [ 수긍 : 추락 = 대사관 : ? ] <br>\n",
    "모델이 예측한 가장 적합한 단어: 잠입 <br>\n",
    "당신의 답변과 모델 예측의 유사도: 0.34 <br>\n",
    "아쉽네요. 더 생각해보세요."
   ]
  },
  {
   "cell_type": "code",
   "execution_count": 1,
   "id": "5a337614",
   "metadata": {},
   "outputs": [
    {
     "name": "stdout",
     "output_type": "stream",
     "text": [
      "Collecting Korpora\n",
      "  Downloading Korpora-0.2.0-py3-none-any.whl.metadata (26 kB)\n",
      "Collecting dataclasses>=0.6 (from Korpora)\n",
      "  Downloading dataclasses-0.6-py3-none-any.whl.metadata (3.0 kB)\n",
      "Requirement already satisfied: numpy>=1.18.0 in c:\\users\\shin\\anaconda3\\envs\\nlp_env\\lib\\site-packages (from Korpora) (1.26.4)\n",
      "Requirement already satisfied: tqdm>=4.46.0 in c:\\users\\shin\\anaconda3\\envs\\nlp_env\\lib\\site-packages (from Korpora) (4.67.1)\n",
      "Requirement already satisfied: requests>=2.20.0 in c:\\users\\shin\\anaconda3\\envs\\nlp_env\\lib\\site-packages (from Korpora) (2.32.4)\n",
      "Collecting xlrd>=1.2.0 (from Korpora)\n",
      "  Downloading xlrd-2.0.2-py2.py3-none-any.whl.metadata (3.5 kB)\n",
      "Requirement already satisfied: charset_normalizer<4,>=2 in c:\\users\\shin\\anaconda3\\envs\\nlp_env\\lib\\site-packages (from requests>=2.20.0->Korpora) (3.4.3)\n",
      "Requirement already satisfied: idna<4,>=2.5 in c:\\users\\shin\\anaconda3\\envs\\nlp_env\\lib\\site-packages (from requests>=2.20.0->Korpora) (3.10)\n",
      "Requirement already satisfied: urllib3<3,>=1.21.1 in c:\\users\\shin\\anaconda3\\envs\\nlp_env\\lib\\site-packages (from requests>=2.20.0->Korpora) (2.5.0)\n",
      "Requirement already satisfied: certifi>=2017.4.17 in c:\\users\\shin\\anaconda3\\envs\\nlp_env\\lib\\site-packages (from requests>=2.20.0->Korpora) (2025.8.3)\n",
      "Requirement already satisfied: colorama in c:\\users\\shin\\anaconda3\\envs\\nlp_env\\lib\\site-packages (from tqdm>=4.46.0->Korpora) (0.4.6)\n",
      "Downloading Korpora-0.2.0-py3-none-any.whl (57 kB)\n",
      "Downloading dataclasses-0.6-py3-none-any.whl (14 kB)\n",
      "Downloading xlrd-2.0.2-py2.py3-none-any.whl (96 kB)\n",
      "Installing collected packages: dataclasses, xlrd, Korpora\n",
      "\n",
      "   ------------- -------------------------- 1/3 [xlrd]\n",
      "   -------------------------- ------------- 2/3 [Korpora]\n",
      "   ---------------------------------------- 3/3 [Korpora]\n",
      "\n",
      "Successfully installed Korpora-0.2.0 dataclasses-0.6 xlrd-2.0.2\n"
     ]
    }
   ],
   "source": [
    "# !pip install Korpora"
   ]
  },
  {
   "cell_type": "code",
   "execution_count": 1,
   "id": "98a746f5",
   "metadata": {},
   "outputs": [
    {
     "name": "stdout",
     "output_type": "stream",
     "text": [
      "\n",
      "    Korpora 는 다른 분들이 연구 목적으로 공유해주신 말뭉치들을\n",
      "    손쉽게 다운로드, 사용할 수 있는 기능만을 제공합니다.\n",
      "\n",
      "    말뭉치들을 공유해 주신 분들에게 감사드리며, 각 말뭉치 별 설명과 라이센스를 공유 드립니다.\n",
      "    해당 말뭉치에 대해 자세히 알고 싶으신 분은 아래의 description 을 참고,\n",
      "    해당 말뭉치를 연구/상용의 목적으로 이용하실 때에는 아래의 라이센스를 참고해 주시기 바랍니다.\n",
      "\n",
      "    # Description\n",
      "    Author : Hyunjoong Kim lovit@github\n",
      "    Repository : https://github.com/lovit/petitions_archive\n",
      "    References :\n",
      "\n",
      "    청와대 국민청원 게시판의 데이터를 월별로 수집한 것입니다.\n",
      "    청원은 게시판에 글을 올린 뒤, 한달 간 청원이 진행됩니다.\n",
      "    수집되는 데이터는 청원종료가 된 이후의 데이터이며, 청원 내 댓글은 수집되지 않습니다.\n",
      "    단 청원의 동의 개수는 수집됩니다.\n",
      "    자세한 내용은 위의 repository를 참고하세요.\n",
      "\n",
      "    # License\n",
      "    CC0 1.0 Universal (CC0 1.0) Public Domain Dedication\n",
      "    Details in https://creativecommons.org/publicdomain/zero/1.0/\n",
      "\n",
      "[Korpora] Corpus `korean_petitions` is already installed at C:\\Users\\shin\\Korpora\\korean_petitions\\petitions_2017-08\n",
      "[Korpora] Corpus `korean_petitions` is already installed at C:\\Users\\shin\\Korpora\\korean_petitions\\petitions_2017-09\n",
      "[Korpora] Corpus `korean_petitions` is already installed at C:\\Users\\shin\\Korpora\\korean_petitions\\petitions_2017-10\n",
      "[Korpora] Corpus `korean_petitions` is already installed at C:\\Users\\shin\\Korpora\\korean_petitions\\petitions_2017-11\n",
      "[Korpora] Corpus `korean_petitions` is already installed at C:\\Users\\shin\\Korpora\\korean_petitions\\petitions_2017-12\n",
      "[Korpora] Corpus `korean_petitions` is already installed at C:\\Users\\shin\\Korpora\\korean_petitions\\petitions_2018-01\n",
      "[Korpora] Corpus `korean_petitions` is already installed at C:\\Users\\shin\\Korpora\\korean_petitions\\petitions_2018-02\n",
      "[Korpora] Corpus `korean_petitions` is already installed at C:\\Users\\shin\\Korpora\\korean_petitions\\petitions_2018-03\n",
      "[Korpora] Corpus `korean_petitions` is already installed at C:\\Users\\shin\\Korpora\\korean_petitions\\petitions_2018-04\n",
      "[Korpora] Corpus `korean_petitions` is already installed at C:\\Users\\shin\\Korpora\\korean_petitions\\petitions_2018-05\n",
      "[Korpora] Corpus `korean_petitions` is already installed at C:\\Users\\shin\\Korpora\\korean_petitions\\petitions_2018-06\n",
      "[Korpora] Corpus `korean_petitions` is already installed at C:\\Users\\shin\\Korpora\\korean_petitions\\petitions_2018-07\n",
      "[Korpora] Corpus `korean_petitions` is already installed at C:\\Users\\shin\\Korpora\\korean_petitions\\petitions_2018-08\n",
      "[Korpora] Corpus `korean_petitions` is already installed at C:\\Users\\shin\\Korpora\\korean_petitions\\petitions_2018-09\n",
      "[Korpora] Corpus `korean_petitions` is already installed at C:\\Users\\shin\\Korpora\\korean_petitions\\petitions_2018-10\n",
      "[Korpora] Corpus `korean_petitions` is already installed at C:\\Users\\shin\\Korpora\\korean_petitions\\petitions_2018-11\n",
      "[Korpora] Corpus `korean_petitions` is already installed at C:\\Users\\shin\\Korpora\\korean_petitions\\petitions_2018-12\n",
      "[Korpora] Corpus `korean_petitions` is already installed at C:\\Users\\shin\\Korpora\\korean_petitions\\petitions_2019-01\n",
      "[Korpora] Corpus `korean_petitions` is already installed at C:\\Users\\shin\\Korpora\\korean_petitions\\petitions_2019-02\n",
      "[Korpora] Corpus `korean_petitions` is already installed at C:\\Users\\shin\\Korpora\\korean_petitions\\petitions_2019-03\n"
     ]
    }
   ],
   "source": [
    "from Korpora import Korpora\n",
    "# Korpora.fetch('korean_petitions')\n",
    "\n",
    "corpus = Korpora.load('korean_petitions')"
   ]
  },
  {
   "cell_type": "code",
   "execution_count": 2,
   "id": "2b588de3",
   "metadata": {},
   "outputs": [],
   "source": [
    "from gensim.models import FastText, Word2Vec\n",
    "from nltk.tokenize import word_tokenize, sent_tokenize\n",
    "import kss\n",
    "from konlpy.tag import Okt\n",
    "import string\n",
    "import re\n",
    "import random"
   ]
  },
  {
   "cell_type": "code",
   "execution_count": 3,
   "id": "0302bf74",
   "metadata": {},
   "outputs": [
    {
     "data": {
      "text/plain": [
       "<Korpora.korpus_korean_petitions.KoreanPetitionsKorpus at 0x141bedea630>"
      ]
     },
     "execution_count": 3,
     "metadata": {},
     "output_type": "execute_result"
    }
   ],
   "source": [
    "corpus"
   ]
  },
  {
   "cell_type": "code",
   "execution_count": 20,
   "id": "f121213c",
   "metadata": {},
   "outputs": [
    {
     "data": {
      "text/plain": [
       "50000"
      ]
     },
     "execution_count": 20,
     "metadata": {},
     "output_type": "execute_result"
    }
   ],
   "source": [
    "sen = list(corpus.train.texts)[:50000] # + corpus.train.pairs) + list(corpus.dev.texts + corpus.dev.pairs) + list(corpus.test.texts + corpus.test.pairs)\n",
    "len(sen)"
   ]
  },
  {
   "cell_type": "code",
   "execution_count": 5,
   "id": "3d1ec18f",
   "metadata": {},
   "outputs": [],
   "source": [
    "def load_stopwords(file_path):\n",
    "    with open(file_path, 'r', encoding='UTF-8') as f:\n",
    "        stopwords = [line.strip() for line in f]\n",
    "    \n",
    "    return stopwords"
   ]
  },
  {
   "cell_type": "code",
   "execution_count": 6,
   "id": "6b0d95be",
   "metadata": {},
   "outputs": [
    {
     "data": {
      "text/plain": [
       "'!\"#$%&\\'()*+,-./:;<=>?@[\\\\]^_`{|}~'"
      ]
     },
     "execution_count": 6,
     "metadata": {},
     "output_type": "execute_result"
    }
   ],
   "source": [
    "punct = string.punctuation\n",
    "punct"
   ]
  },
  {
   "cell_type": "code",
   "execution_count": 21,
   "id": "02c7bf11",
   "metadata": {},
   "outputs": [
    {
     "data": {
      "text/plain": [
       "50000"
      ]
     },
     "execution_count": 21,
     "metadata": {},
     "output_type": "execute_result"
    }
   ],
   "source": [
    "okt = Okt()\n",
    "preprocessed_sentences = []\n",
    "ko_stopwords = load_stopwords('ko_stopwords.txt')\n",
    "\n",
    "for s in sen:\n",
    "    s = re.sub(r'[^가-힣ㄱ-ㅎㅏ-ㅣ\\\\s]', ' ', s)\n",
    "    # tokens = okt.morphs(s)\n",
    "    tokens = okt.nouns(s)\n",
    "    cleaned_tokens = [token for token in tokens if token not in ko_stopwords and token not in punct]\n",
    "\n",
    "    preprocessed_sentences.append(cleaned_tokens)\n",
    "\n",
    "len(preprocessed_sentences)"
   ]
  },
  {
   "cell_type": "markdown",
   "id": "e7c889a3",
   "metadata": {},
   "source": [
    "### 오류!\n",
    "\n",
    "**sentences에는 각 sentence별로 나눠진 list를 넣어야됨 2차원 배열**"
   ]
  },
  {
   "cell_type": "code",
   "execution_count": 22,
   "id": "3da74b9e",
   "metadata": {},
   "outputs": [],
   "source": [
    "fasttext_model = FastText(\n",
    "    sentences=preprocessed_sentences,\n",
    "    vector_size=100,\n",
    "    window=5,\n",
    "    min_count=3,\n",
    "    sg=1\n",
    ")\n",
    "# vector_size 조정\n",
    "# window 크기 조정\n",
    "# sg 1로 바꿔보기"
   ]
  },
  {
   "cell_type": "code",
   "execution_count": 23,
   "id": "608122d1",
   "metadata": {},
   "outputs": [
    {
     "data": {
      "text/plain": [
       "23585"
      ]
     },
     "execution_count": 23,
     "metadata": {},
     "output_type": "execute_result"
    }
   ],
   "source": [
    "len(fasttext_model.wv.index_to_key)"
   ]
  },
  {
   "cell_type": "code",
   "execution_count": 33,
   "id": "bf03a107",
   "metadata": {},
   "outputs": [],
   "source": [
    "fasttext_model.wv.save_word2vec_format('game_w2v')"
   ]
  },
  {
   "cell_type": "code",
   "execution_count": 37,
   "id": "e42f1d77",
   "metadata": {},
   "outputs": [
    {
     "name": "stdout",
     "output_type": "stream",
     "text": [
      "관계 [ 장년 : 빈곤층 = 자치구 : ? ]\n",
      "모델이 예측한 단어 : 특별자치도\n",
      "입력한 답: 강서구\n",
      "당신의 답변과 모델 예측의 유사도: 0.5835752487182617\n"
     ]
    }
   ],
   "source": [
    "A = random.choice(fasttext_model.wv.index_to_key)\n",
    "# print(A)\n",
    "threshold = 0.8\n",
    "filtered = []\n",
    "while not filtered:\n",
    "    filtered = [word for word, score in fasttext_model.wv.most_similar(A, topn=1000) if score >= threshold]\n",
    "    threshold -= 0.1\n",
    "\n",
    "B = random.choice(filtered)\n",
    "sim_ab = fasttext_model.wv.similarity(A, B)\n",
    "\n",
    "C = A\n",
    "filtered = []\n",
    "while (C == A or C == B) and (not filtered):\n",
    "    C = random.choice(fasttext_model.wv.index_to_key)\n",
    "    filtered = [word for word, score in fasttext_model.wv.most_similar(C, topn=1000) if score >= threshold]\n",
    "\n",
    "print(f\"관계 [ {A} : {B} = {C} : ? ]\")\n",
    "\n",
    "D = input()\n",
    "\n",
    "sim_user = fasttext_model.wv.similarity(C, D)\n",
    "model_out = ''\n",
    "sim_model = 0\n",
    "for model_choice in fasttext_model.wv.most_similar(C, topn=1000):\n",
    "    if abs(model_choice[1]-sim_ab) < abs(sim_model - sim_ab):\n",
    "        sim_model = model_choice[1]\n",
    "        model_out = model_choice[0]\n",
    "\n",
    "print(f\"모델이 예측한 단어 : {model_out}\")\n",
    "print(f\"입력한 답: {D}\")\n",
    "print(f\"당신의 답변과 모델 예측의 유사도: {fasttext_model.wv.similarity(D, model_out)}\")\n"
   ]
  },
  {
   "cell_type": "code",
   "execution_count": 38,
   "id": "5b782365",
   "metadata": {},
   "outputs": [
    {
     "name": "stdout",
     "output_type": "stream",
     "text": [
      "장년와 빈곤층의 유사도: 0.8370791673660278\n",
      "자치구와 특별자치도의 유사도: 0.8214325308799744\n",
      "자치구와 강서구의 유사도: 0.6568778157234192\n",
      "[('특별자치도', 0.8214325308799744), ('광산구', 0.8176490664482117), ('대덕', 0.817389190196991), ('공진', 0.8127878308296204), ('동래구', 0.8121123909950256), ('김제시', 0.8113343119621277), ('약대동', 0.8104628920555115), ('산림조합', 0.8104188442230225), ('유성구', 0.8060669302940369), ('덕진구', 0.8054627180099487)]\n"
     ]
    }
   ],
   "source": [
    "print(f\"{A}와 {B}의 유사도: {sim_ab}\")\n",
    "print(f\"{C}와 {model_out}의 유사도: {sim_model}\")\n",
    "print(f\"{C}와 {D}의 유사도: {sim_user}\")\n",
    "print(fasttext_model.wv.most_similar(C))"
   ]
  },
  {
   "cell_type": "code",
   "execution_count": null,
   "id": "4d8b6c57",
   "metadata": {},
   "outputs": [],
   "source": []
  }
 ],
 "metadata": {
  "kernelspec": {
   "display_name": "nlp_env",
   "language": "python",
   "name": "python3"
  },
  "language_info": {
   "codemirror_mode": {
    "name": "ipython",
    "version": 3
   },
   "file_extension": ".py",
   "mimetype": "text/x-python",
   "name": "python",
   "nbconvert_exporter": "python",
   "pygments_lexer": "ipython3",
   "version": "3.12.11"
  }
 },
 "nbformat": 4,
 "nbformat_minor": 5
}
